{
 "cells": [
  {
   "cell_type": "code",
   "execution_count": null,
   "metadata": {},
   "outputs": [],
   "source": [
    "import pandas as pd\n",
    "import numpy as np\n",
    "#enter file with your dattaset instead of \"data.txt\"\n",
    "data = np.array(pd.read_csv('../data.txt', sep=' ', header=None))"
   ]
  },
  {
   "cell_type": "code",
   "execution_count": null,
   "metadata": {},
   "outputs": [],
   "source": [
    "data.shape"
   ]
  },
  {
   "cell_type": "code",
   "execution_count": null,
   "metadata": {},
   "outputs": [],
   "source": [
    "from sklearn.neighbors import KDTree\n",
    "import time\n",
    "\n",
    "#enter neighbours parameter here\n",
    "neighbours_number = 12\n",
    "\n",
    "s = time.time()\n",
    "kdt = KDTree(data, metric='euclidean')\n",
    "distances, neighbors = kdt.query(data, k = neighbours_number + 1, return_distance = True)\n",
    "neighbors = neighbors[:, 1:]\n",
    "distances = distances[:, -1]\n",
    "e = time.time()\n",
    "print(e - s)"
   ]
  }
 ],
 "metadata": {
  "kernelspec": {
   "display_name": "Python 3",
   "language": "python",
   "name": "python3"
  },
  "language_info": {
   "codemirror_mode": {
    "name": "ipython",
    "version": 3
   },
   "file_extension": ".py",
   "mimetype": "text/x-python",
   "name": "python",
   "nbconvert_exporter": "python",
   "pygments_lexer": "ipython3",
   "version": "3.6.7"
  }
 },
 "nbformat": 4,
 "nbformat_minor": 2
}
