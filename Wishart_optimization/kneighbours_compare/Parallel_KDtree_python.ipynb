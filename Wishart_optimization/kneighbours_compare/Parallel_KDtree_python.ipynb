{
 "cells": [
  {
   "cell_type": "code",
   "execution_count": 1,
   "metadata": {},
   "outputs": [],
   "source": [
    "import pandas as pd\n",
    "import numpy as np\n",
    "#enter file with your dattaset instead of \"data.txt\"\n",
    "data = np.array(pd.read_csv('../data.txt', sep=' ', header=None))"
   ]
  },
  {
   "cell_type": "code",
   "execution_count": 2,
   "metadata": {},
   "outputs": [
    {
     "data": {
      "text/plain": [
       "(1000000, 15)"
      ]
     },
     "execution_count": 2,
     "metadata": {},
     "output_type": "execute_result"
    }
   ],
   "source": [
    "data.shape"
   ]
  },
  {
   "cell_type": "code",
   "execution_count": 7,
   "metadata": {},
   "outputs": [
    {
     "name": "stdout",
     "output_type": "stream",
     "text": [
      "44.326494216918945\n"
     ]
    }
   ],
   "source": [
    "from scipy import spatial\n",
    "import time\n",
    "\n",
    "#enter neighbours parameter here\n",
    "neighbours_number = 12\n",
    "\n",
    "s = time.time()\n",
    "cKDTree = spatial.cKDTree(data, leafsize = 40)\n",
    "distances, neighbors = cKDTree.query(data, k = neighbours_number + 1, n_jobs = -1)\n",
    "neighbors = neighbors[:, 1:]\n",
    "distances = distances[:, -1]\n",
    "e = time.time()\n",
    "print(e - s)"
   ]
  }
 ],
 "metadata": {
  "kernelspec": {
   "display_name": "Python 3",
   "language": "python",
   "name": "python3"
  },
  "language_info": {
   "codemirror_mode": {
    "name": "ipython",
    "version": 3
   },
   "file_extension": ".py",
   "mimetype": "text/x-python",
   "name": "python",
   "nbconvert_exporter": "python",
   "pygments_lexer": "ipython3",
   "version": "3.6.7"
  }
 },
 "nbformat": 4,
 "nbformat_minor": 2
}
